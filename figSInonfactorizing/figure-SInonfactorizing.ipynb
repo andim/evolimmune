{
 "cells": [
  {
   "cell_type": "markdown",
   "metadata": {
    "collapsed": true
   },
   "source": [
    "## Non-independent cost of infection"
   ]
  },
  {
   "cell_type": "markdown",
   "metadata": {},
   "source": [
    "Import packages."
   ]
  },
  {
   "cell_type": "code",
   "execution_count": null,
   "metadata": {
    "collapsed": false
   },
   "outputs": [],
   "source": [
    "import sys\n",
    "sys.path.append('../lib/')\n",
    "from cycler import cycler\n",
    "import numpy as np\n",
    "import matplotlib\n",
    "import matplotlib.pyplot as plt\n",
    "%matplotlib inline\n",
    "import palettable\n",
    "import plotting\n",
    "import projgrad\n",
    "import scipy.optimize\n",
    "import evolimmune\n",
    "import analysis\n",
    "%load_ext autoreload\n",
    "%autoreload 2\n",
    "plt.style.use(['paper'])\n",
    "plt.rc('axes', prop_cycle=cycler('color', palettable.colorbrewer.qualitative.Dark2_4.mpl_colors))\n",
    "black = matplotlib.rcParams['text.color']\n",
    "eps = 1e-8"
   ]
  },
  {
   "cell_type": "markdown",
   "metadata": {},
   "source": [
    "Define growth rates."
   ]
  },
  {
   "cell_type": "code",
   "execution_count": null,
   "metadata": {
    "collapsed": true
   },
   "outputs": [],
   "source": [
    "def Lambda(p00, p01, p10, p11, pienv1, pienv2, lambda_, mu1, mu2, nu):\n",
    "    return pienv1*pienv2*np.log(np.exp(-2*lambda_-nu)*p00+np.exp(-lambda_-mu2)*(p01+p10)+np.exp(-2*mu2)*p11) \\\n",
    "    +pienv2*(1-pienv1)*np.log(np.exp(-lambda_)*p00+np.exp(-mu2)*p01+np.exp(-lambda_-mu1)*p10+np.exp(-mu1-mu2)*p11)\\\n",
    "    +(1-pienv2)*pienv1*np.log(np.exp(-lambda_)*p00+np.exp(-lambda_-mu1)*p01+np.exp(-mu2)*p10+np.exp(-mu1-mu2)*p11)\\\n",
    "    +(1-pienv2)*(1-pienv1)*np.log(p00+np.exp(-mu1)*(p01+p10)+p11*np.exp(-2*mu1))\n",
    "def Lambda_ni(x, *args):\n",
    "    p00, p01, p10, p11 = x\n",
    "    return -Lambda(p00, p01, p10, p11, *args)\n",
    "def Lambda_i(x, *args):\n",
    "    pi1, pi2 = x\n",
    "    p00, p01, p10, p11 = (1-pi1)*(1-pi2), pi2*(1-pi1), pi1*(1-pi2), pi1*pi2\n",
    "    return -Lambda(p00, p01, p10, p11, *args)"
   ]
  },
  {
   "cell_type": "markdown",
   "metadata": {},
   "source": [
    "Optimize non-factorizing case"
   ]
  },
  {
   "cell_type": "code",
   "execution_count": null,
   "metadata": {
    "collapsed": false
   },
   "outputs": [],
   "source": [
    "pienv1, pienv2, lambda_, mu1, mu2 = 0.4, 0.4, 2.0, 1.0, 1.0\n",
    "nus = np.linspace(0, 2, 20)\n",
    "ps = np.zeros((len(nus), 4))\n",
    "fopts = np.zeros(len(nus))\n",
    "for i, nu in enumerate(nus):\n",
    "    res = projgrad.minimize(Lambda_ni, 0.25*np.ones(4), args=(pienv1, pienv2, lambda_, mu1, mu2, nu),\n",
    "                            jac=False, method='fast', disp=False, reltol=1e-6, nboundupdate=200)\n",
    "    ps[i] = res.x\n",
    "    fopts[i] = -res.fun"
   ]
  },
  {
   "cell_type": "markdown",
   "metadata": {},
   "source": [
    "Optimize independent solution"
   ]
  },
  {
   "cell_type": "code",
   "execution_count": null,
   "metadata": {
    "collapsed": true
   },
   "outputs": [],
   "source": [
    "ps_ind = np.zeros((len(nus), 4))\n",
    "fopts_ind = np.zeros(len(nus))\n",
    "for i, nu in enumerate(nus):\n",
    "    res = scipy.optimize.minimize(Lambda_i, 0.5*np.ones(2), args=(pienv1, pienv2, lambda_, mu1, mu2, nu),\n",
    "                                  bounds = [(0, 1), (0, 1)],\n",
    "                                  method='L-BFGS-B')\n",
    "    pi1, pi2 = res.x\n",
    "    ps_ind[i] = [(1-pi1)*(1-pi2), pi2*(1-pi1), pi1*(1-pi2), pi1*pi2]\n",
    "    fopts_ind[i] = -res.fun"
   ]
  },
  {
   "cell_type": "markdown",
   "metadata": {},
   "source": [
    "Make figure."
   ]
  },
  {
   "cell_type": "code",
   "execution_count": null,
   "metadata": {
    "collapsed": true
   },
   "outputs": [],
   "source": [
    "def plot_pcov(ps):\n",
    "    fig, axes = plt.subplots(figsize=(4, 4), nrows=2, sharex=True)\n",
    "    \n",
    "    E1 = ps[:, 2] + ps[:, 3]\n",
    "    E2 = ps[:, 1] + ps[:, 3]\n",
    "    \n",
    "    ax = axes[0]\n",
    "    ax.plot(nus, E1)\n",
    "    ax.set_xlim(min(nus), max(nus))\n",
    "    ax.set_ylabel('fraction protected')\n",
    "    \n",
    "    ax = axes[1]\n",
    "    corr = (ps[:, 3]-E1*E2)/((E1*(1-E1))**.5 * (E2*(1-E2))**.5)\n",
    "    ax.plot(nus, corr)\n",
    "    ax.set_ylabel('protection\\ncorrelation coefficient')\n",
    "    ax.set_xlabel(r'non-additivity of costs $\\nu$')\n",
    "    ax.set_ylim(-1.02, 1.02)\n",
    "    for ax in axes:\n",
    "        ax.locator_params(nbins=5)\n",
    "        ax.grid()\n",
    "        plotting.despine(ax)\n",
    "    fig.tight_layout()\n",
    "    return fig"
   ]
  },
  {
   "cell_type": "code",
   "execution_count": null,
   "metadata": {
    "collapsed": false
   },
   "outputs": [],
   "source": [
    "fig = plot_pcov(ps)\n",
    "fig.savefig('SIniinfection.pdf')"
   ]
  },
  {
   "cell_type": "code",
   "execution_count": null,
   "metadata": {
    "collapsed": true
   },
   "outputs": [],
   "source": []
  }
 ],
 "metadata": {
  "kernelspec": {
   "display_name": "Python 2",
   "language": "python",
   "name": "python2"
  },
  "language_info": {
   "codemirror_mode": {
    "name": "ipython",
    "version": 2
   },
   "file_extension": ".py",
   "mimetype": "text/x-python",
   "name": "python",
   "nbconvert_exporter": "python",
   "pygments_lexer": "ipython2",
   "version": "2.7.11+"
  }
 },
 "nbformat": 4,
 "nbformat_minor": 0
}
