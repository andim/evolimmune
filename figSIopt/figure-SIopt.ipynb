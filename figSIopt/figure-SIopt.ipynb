{
 "cells": [
  {
   "cell_type": "markdown",
   "metadata": {},
   "source": [
    "# Figure SI 1: Global optimization over parameters"
   ]
  },
  {
   "cell_type": "markdown",
   "metadata": {},
   "source": [
    "This notebook contains the analysis of a direct global opimization over all four parameters ($p, q, c_{\\rm constitutive}, p_{\\rm uptake}$) of the model as a function of the pathogen statistics. It can be thought of as a supplement to Figure 1, motivating the choice of immune strategies considered for determining the phase boundaries."
   ]
  },
  {
   "cell_type": "markdown",
   "metadata": {},
   "source": [
    "## Prerequisites\n",
    "\n",
    "To generate the data type:\n",
    "    \n",
    "    make run\n",
    "    make agg\n",
    "    \n",
    "This notebook also needs the phase data from Figure 2."
   ]
  },
  {
   "cell_type": "markdown",
   "metadata": {},
   "source": [
    "## Let's get going"
   ]
  },
  {
   "cell_type": "markdown",
   "metadata": {},
   "source": [
    "Import a number of packages that we will need in the following."
   ]
  },
  {
   "cell_type": "code",
   "execution_count": null,
   "metadata": {
    "collapsed": false
   },
   "outputs": [],
   "source": [
    "import sys\n",
    "sys.path.append('../lib/')\n",
    "import numpy as np\n",
    "import pandas as pd\n",
    "pd.options.mode.chained_assignment = None\n",
    "import matplotlib.ticker\n",
    "import matplotlib.text\n",
    "import matplotlib.pyplot as plt\n",
    "from matplotlib import cm, lines, transforms, gridspec, ticker\n",
    "%matplotlib inline\n",
    "import shapely.ops\n",
    "import plotting\n",
    "import evolimmune\n",
    "from plotting import *\n",
    "import analysis\n",
    "%load_ext autoreload\n",
    "%autoreload 2\n",
    "plt.style.use(['paper'])\n",
    "datadir = '/home/andreas/lptcloud/data/evolimmun/'\n",
    "eps = 1e-8"
   ]
  },
  {
   "cell_type": "markdown",
   "metadata": {},
   "source": [
    "Load phase boundary data"
   ]
  },
  {
   "cell_type": "code",
   "execution_count": null,
   "metadata": {
    "collapsed": false
   },
   "outputs": [],
   "source": [
    "df = analysis.loadnpz('../fig2/data/phases.npz')\n",
    "polygons = evolimmune.polygons_from_boundaries(df, yconv=evolimmune.to_tau)\n",
    "phases = evolimmune.phases_from_polygons(polygons)\n",
    "qpos = (polygons['complete']-polygons['ac'])-polygons['pm'].intersection(polygons['pi'])-(polygons['complete']-polygons['io'])\n",
    "puppos = polygons['complete']-shapely.ops.cascaded_union((polygons['ac'],\n",
    "                                                          polygons['pm'],\n",
    "                                                          polygons['complete']-polygons['mi']))"
   ]
  },
  {
   "cell_type": "code",
   "execution_count": null,
   "metadata": {
    "collapsed": false
   },
   "outputs": [],
   "source": [
    "analysis.printunique(df)"
   ]
  },
  {
   "cell_type": "markdown",
   "metadata": {},
   "source": [
    "Load optimization data"
   ]
  },
  {
   "cell_type": "code",
   "execution_count": null,
   "metadata": {
    "collapsed": true
   },
   "outputs": [],
   "source": [
    "dft = analysis.loadnpz('data/opt.npz')\n",
    "evolimmune.derived_quantities(dft)"
   ]
  },
  {
   "cell_type": "code",
   "execution_count": null,
   "metadata": {
    "collapsed": false
   },
   "outputs": [],
   "source": [
    "analysis.printunique(dft)"
   ]
  },
  {
   "cell_type": "markdown",
   "metadata": {},
   "source": [
    "## Putting it all together"
   ]
  },
  {
   "cell_type": "code",
   "execution_count": null,
   "metadata": {
    "collapsed": false
   },
   "outputs": [],
   "source": [
    "variables = ['cconstitutive',  'q', 'p', 'pup']\n",
    "fig, axesgrid = plt.subplots(nrows=2, ncols=2, figsize=(7, 5.0), sharey=True, sharex=True)\n",
    "ymin, ymax = 0.09, 20.0\n",
    "axes = axesgrid.flatten()\n",
    "boundarykwargs = dict(ylimmax=ymax, ylimmin=ymin, lw=7.5, color='w')\n",
    "for counter, var in enumerate(variables):\n",
    "    ax = axes[counter]\n",
    "    cmap = cm.viridis if var != 'cconstitutive' else cm.viridis_r\n",
    "    cmap.set_bad('darkmagenta', 1.)\n",
    "    im, cbar = plotting.heatmap(dft.pivot(index='tauenv', columns='pienv', values=var),\n",
    "                     imshow=True, zlabel=evolimmune.varname_to_tex[var], cmap=cmap, ax=ax,\n",
    "                     interpolation='bilinear')\n",
    "    cbar.outline.set_linewidth(0.0)\n",
    "    if var == 'cconstitutive':\n",
    "        analysis.plot_interior_boundary(ax, phases['p'], **boundarykwargs)\n",
    "        analysis.plot_interior_boundary(ax, phases['a'], **boundarykwargs)\n",
    "    elif var in ['q', 'p']:\n",
    "        analysis.plot_interior_boundary(ax, qpos, **boundarykwargs)\n",
    "        if var == 'p':\n",
    "            analysis.plot_interior_boundary(ax, phases['c'], **boundarykwargs)\n",
    "    elif var == 'pup':\n",
    "        analysis.plot_interior_boundary(ax, puppos, **boundarykwargs)\n",
    "    ax.set_ylabel('')\n",
    "    ax.set_xlabel('')\n",
    "    ax.set_xlim(0.0, 1.0)\n",
    "    ax.set_ylim(ymin, ymax)\n",
    "    ax.set_yscale('log')\n",
    "    plotting.despine(ax, spines='all')\n",
    "for ax in axesgrid[:, 0]:\n",
    "    ax.set_ylabel(r'characteristic time $\\tau_{env}$')\n",
    "for ax in axesgrid[-1, :]:\n",
    "    ax.set_xlabel('frequency $\\pi_{env}$')\n",
    "fig.tight_layout(pad=0.25)\n",
    "fig.savefig('SIopt.pdf')"
   ]
  },
  {
   "cell_type": "code",
   "execution_count": null,
   "metadata": {
    "collapsed": false
   },
   "outputs": [],
   "source": [
    "tauenv = 11.5\n",
    "df = dft[np.abs(dft.tauenv-tauenv)<1e-1]\n",
    "df.plot(x='pienv', y='pup')\n",
    "df.plot(x='pienv', y='p', ax=plt.gca())\n",
    "aenv = evolimmune.from_tau(tauenv)\n",
    "pienv = np.linspace(0, 0.72)\n",
    "pup = -0.025  +  0.025 * (1.  +  800.* pienv  -  800. * aenv * pienv  -  800. * pienv**2  + 800. * aenv * pienv**2)**.5\n",
    "plt.plot(pienv, pup)\n",
    "plt.xlim(0, 1)"
   ]
  },
  {
   "cell_type": "code",
   "execution_count": null,
   "metadata": {
    "collapsed": true
   },
   "outputs": [],
   "source": []
  }
 ],
 "metadata": {
  "kernelspec": {
   "display_name": "Python 2",
   "language": "python",
   "name": "python2"
  },
  "language_info": {
   "codemirror_mode": {
    "name": "ipython",
    "version": 2
   },
   "file_extension": ".py",
   "mimetype": "text/x-python",
   "name": "python",
   "nbconvert_exporter": "python",
   "pygments_lexer": "ipython2",
   "version": "2.7.11+"
  }
 },
 "nbformat": 4,
 "nbformat_minor": 0
}
