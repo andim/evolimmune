{
 "cells": [
  {
   "cell_type": "markdown",
   "metadata": {},
   "source": [
    "# Influence of parameter choice on the phase diagram"
   ]
  },
  {
   "cell_type": "markdown",
   "metadata": {},
   "source": [
    "To study to what extend the phase diagram depends on the cost of infection $c_{\\rm inf}$, and on the trade-off shapes $c_{\\rm def}(c_{\\rm con}), c_{\\rm uptake}(p_{\\rm uptake})$ we plot the phase diagram for a number of different choices in the following."
   ]
  },
  {
   "cell_type": "markdown",
   "metadata": {},
   "source": [
    "Import packages."
   ]
  },
  {
   "cell_type": "code",
   "execution_count": null,
   "metadata": {
    "collapsed": false
   },
   "outputs": [],
   "source": [
    "from cycler import cycler\n",
    "import sys\n",
    "sys.path.append('../lib')\n",
    "import numpy as np\n",
    "import matplotlib.colors\n",
    "import matplotlib.pyplot as plt\n",
    "from matplotlib import transforms, gridspec, ticker\n",
    "import palettable\n",
    "import shapely.ops\n",
    "%matplotlib inline\n",
    "import plotting\n",
    "import evolimmune\n",
    "import misc\n",
    "import analysis\n",
    "%load_ext autoreload\n",
    "%autoreload 2\n",
    "plt.style.use(['paper'])\n",
    "plt.rc('lines', linewidth=1.0)\n",
    "plt.rc('axes', labelpad=1.0)\n",
    "eps = 1e-8"
   ]
  },
  {
   "cell_type": "markdown",
   "metadata": {},
   "source": [
    "Read in and summarize data"
   ]
  },
  {
   "cell_type": "code",
   "execution_count": null,
   "metadata": {
    "collapsed": false
   },
   "outputs": [],
   "source": [
    "df = analysis.loadnpz('data/phases.npz')\n",
    "analysis.intelligent_describe(df, nunique=10)\n",
    "dfg = df.groupby(['lambda_', 'mus', 'cup'])\n",
    "nparams = len(dfg)"
   ]
  },
  {
   "cell_type": "markdown",
   "metadata": {},
   "source": [
    "define colors used in plot and phasenames"
   ]
  },
  {
   "cell_type": "code",
   "execution_count": null,
   "metadata": {
    "collapsed": false
   },
   "outputs": [],
   "source": [
    "black = matplotlib.rcParams['text.color']\n",
    "colors = np.asarray(palettable.colorbrewer.qualitative.Set3_6.mpl_colors)[[4, 0, 2, 3, 5, 1]]\n",
    "strategies_s = ['a', 'p', 'o', 'i', 'm', 'c']\n",
    "color_dict = dict(zip(strategies_s, colors))\n",
    "linecolors = palettable.colorbrewer.qualitative.Dark2_6.mpl_colors\n",
    "plt.rc('axes', prop_cycle=cycler('color', linecolors))\n",
    "phasenames = misc.DefaultIdentityDict(o='$i$', i='$ib$')"
   ]
  },
  {
   "cell_type": "markdown",
   "metadata": {},
   "source": [
    "Define plotting functions"
   ]
  },
  {
   "cell_type": "code",
   "execution_count": null,
   "metadata": {
    "collapsed": false
   },
   "outputs": [],
   "source": [
    "def plotmus(ax, musstr, alpha=1.0, label=True):\n",
    "    epsilon = np.linspace(0.0, 1.0, 100)\n",
    "    mus = evolimmune.mus_from_str(musstr)\n",
    "    mu1, mu2 = mus(epsilon)\n",
    "    if label:\n",
    "        ax.plot(mu1, mu2, c=linecolors[1], alpha=alpha, label='defense')\n",
    "    else:\n",
    "        ax.plot(mu1, mu2, c=linecolors[1], alpha=alpha)\n",
    "    ax.plot(mu1[0], mu2[0], 'o', markeredgecolor='none', markersize=3, c=linecolors[1], alpha=alpha)\n",
    "    \n",
    "def plotstatecosts(ax, musstr, musstrref=None, lambda_=None):\n",
    "    if lambda_:\n",
    "        ax.text(1, 1, '${0}={1}$'.format(r'c_{\\rm inf}', lambda_),\n",
    "               transform=ax.transAxes, ha='right', va='top')\n",
    "    if musstrref is not None:\n",
    "        plotmus(ax, musstrref, alpha=0.25, label=False)\n",
    "    plotmus(ax, musstr)\n",
    "    ax.set_xlabel(evolimmune.varname_to_tex['cconstitutive'])\n",
    "    ax.set_ylabel(evolimmune.varname_to_tex['cdefense'])\n",
    "    ax.set_xlim(0, 1.5)\n",
    "    ax.set_ylim(0, 2.7)\n",
    "    ax.locator_params(nbins=3)\n",
    "\n",
    "def plotcup(ax, cupstr, cupstrref=None):\n",
    "    pup = np.linspace(0.0, 0.2, 100)\n",
    "    if cupstrref is not None:\n",
    "        cup = evolimmune.cup_from_str(cupstrref)\n",
    "        ax.plot(pup, cup(pup), c=linecolors[2], alpha=.25)\n",
    "    cup = evolimmune.cup_from_str(cupstr)\n",
    "    ax.plot(pup, cup(pup), c=linecolors[2])\n",
    "    ax.set_xlabel(evolimmune.varname_to_tex['pup'])\n",
    "    ax.set_ylabel(evolimmune.varname_to_tex['cup'])\n",
    "    ax.set_ylim(0, 0.1)\n",
    "    ax.locator_params(nbins=1)"
   ]
  },
  {
   "cell_type": "markdown",
   "metadata": {},
   "source": [
    "Putting it all together into one figure"
   ]
  },
  {
   "cell_type": "code",
   "execution_count": null,
   "metadata": {
    "collapsed": false
   },
   "outputs": [],
   "source": [
    "fig = plt.figure(figsize=(6, 7))\n",
    "nrow = 4\n",
    "nsubrow = 3\n",
    "height_ratios = [1, 10, 10]\n",
    "gsglobal = gridspec.GridSpec(4, 2)\n",
    "import param1\n",
    "lambdaref, musref, cupref = param1.lambda_, param1.mus, param1.cup\n",
    "label_axes = []\n",
    "for i in range(1, 9):\n",
    "    p = __import__('param{}'.format(i))\n",
    "    lambda_ = p.lambda_\n",
    "    mus = p.mus\n",
    "    cup = p.cup\n",
    "    dfg = df[(df.mus==mus)&(df.cup==cup)&(df.lambda_==lambda_)]\n",
    "    print lambda_, mus, cup\n",
    "    gs = gridspec.GridSpecFromSubplotSpec(3, 2, subplot_spec=gsglobal[(i-1)%nrow, (i-1)//nrow],\n",
    "                                          width_ratios=[1, 2], height_ratios=[1, 30, 20],\n",
    "                                          hspace=1.5, wspace=0.6)\n",
    "    axlambda = fig.add_subplot(gs[0, 0])\n",
    "    axlambda.text(0.5, -3.0, '${0}={1}$'.format(r'c_{\\rm inf}', lambda_),\n",
    "               transform=axlambda.transAxes, ha='center', va='top')\n",
    "    axlambda.axis('off')\n",
    "    axmu = fig.add_subplot(gs[1, 0])\n",
    "    plotstatecosts(axmu, mus, musref)\n",
    "    axcup = fig.add_subplot(gs[2, 0])\n",
    "    plotcup(axcup, cup, cupref)\n",
    "    for ax in [axmu, axcup]:\n",
    "        plotting.despine(ax)\n",
    "    axm = fig.add_subplot(gs[:, 1])\n",
    "    try:\n",
    "        polygons = evolimmune.polygons_from_boundaries(dfg, yconv=evolimmune.to_tau)\n",
    "        phases = evolimmune.phases_from_polygons(polygons)\n",
    "    except:\n",
    "        pass\n",
    "    else:\n",
    "        for phasename, phase in phases.iteritems():\n",
    "            try:\n",
    "                axm.add_patch(analysis.shapely_to_mpl(phase, ec='None',\n",
    "                                                      fc=color_dict[phasename],\n",
    "                                                      lw=1.0)) \n",
    "                phaset = shapely.ops.transform(lambda x, y, z=None: (x, np.log(y+eps)), phase)\n",
    "                axm.text(phaset.centroid.x, np.exp(phaset.centroid.y),\n",
    "                         r'$\\mathbf{%s}$'%phasenames[phasename][1:-1],\n",
    "                         ha='center', va='center')\n",
    "            except:\n",
    "                pass\n",
    "\n",
    "\n",
    "    axm.set_ylim(evolimmune.to_tau(df.aenv.min()), evolimmune.to_tau(df.aenv.max()))\n",
    "    axm.set_yscale('log')\n",
    "    axm.yaxis.set_major_formatter(ticker.ScalarFormatter())\n",
    "    axm.set_xlabel('$\\pi_{env}$')\n",
    "    axm.set_ylabel(r'$\\tau_{env}$')\n",
    "    axm.grid(which='major', alpha=0.75)\n",
    "    axm.grid(which='minor', lw=0.4, alpha=0.5)\n",
    "    axm.set_axisbelow(False)\n",
    "    plotting.despine(axm, spines='all')\n",
    "    label_axes.append((i, axlambda))\n",
    "label_axes = [ax for i, ax in sorted(label_axes)]\n",
    "plotting.label_axes(label_axes, xy=(-0.6, 1.0), fontsize='large', va='top')\n",
    "gsglobal.tight_layout(fig, h_pad=1.0, w_pad=2.0)\n",
    "fig.savefig('SIaltphases.pdf')"
   ]
  },
  {
   "cell_type": "markdown",
   "metadata": {
    "collapsed": true
   },
   "source": [
    "Fig.S2: **Influence of parameter choice on the phase diagram presented in Fig. 2.**\n",
    "For every panel the parameter choices are shown on the left and the phase boundaries between **p**roto-adaptive, **i**nnate, **i**nnate **b**et hedging, **m**ixed and **C**RISPR-like strategies are shown on the right. As a reference, lines in lighter color show trade-off and uptake cost for parameter set used in Fig. 2.\n",
    "**(A)** Phase diagram for parameters used in Fig. 2.\n",
    "**(B)** More expensive active acquisition ($c_{\\rm uptake}$ multiplied by a factor of two).\n",
    "**(C)** Different functional form for cost of active acqusition: $c_{\\rm uptake} = 0.05 \\times p_{\\rm uptake} + 2 \\times p_{\\rm uptake}^2$.\n",
    "**(D)** More permissive state-dependent costs (costs multiplied by a factor of 0.5).\n",
    "**(E)** Less permissive state-dependent costs (costs multiplied by a factor of 1.5).\n",
    "**(F)** Higher cost of infection.\n",
    "**(G)** Higher cost of immune protection.\n",
    "**(H)** Different functional form for cost trade-off, $c_{\\rm defense} = 1.4-0.6\\times c_{\\rm constitutive}+0.2 \\times c_{\\rm constitutive}^2$"
   ]
  },
  {
   "cell_type": "code",
   "execution_count": null,
   "metadata": {
    "collapsed": true
   },
   "outputs": [],
   "source": []
  }
 ],
 "metadata": {
  "kernelspec": {
   "display_name": "Python 2",
   "language": "python",
   "name": "python2"
  },
  "language_info": {
   "codemirror_mode": {
    "name": "ipython",
    "version": 2
   },
   "file_extension": ".py",
   "mimetype": "text/x-python",
   "name": "python",
   "nbconvert_exporter": "python",
   "pygments_lexer": "ipython2",
   "version": "2.7.11+"
  }
 },
 "nbformat": 4,
 "nbformat_minor": 0
}
