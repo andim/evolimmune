{
 "cells": [
  {
   "cell_type": "markdown",
   "metadata": {},
   "source": [
    "# Figure S3: Finite population size simulations"
   ]
  },
  {
   "cell_type": "markdown",
   "metadata": {},
   "source": [
    "Prerequisites: opt.npz from Figure SIopt, and finite population size simulations results generated with:\n",
    "\n",
    "    make run\n",
    "    make agg"
   ]
  },
  {
   "cell_type": "markdown",
   "metadata": {},
   "source": [
    "Import packages."
   ]
  },
  {
   "cell_type": "code",
   "execution_count": null,
   "metadata": {
    "collapsed": false
   },
   "outputs": [],
   "source": [
    "import sys\n",
    "sys.path.append('../lib')\n",
    "from cycler import cycler\n",
    "import numpy as np\n",
    "import matplotlib\n",
    "import matplotlib.pyplot as plt\n",
    "%matplotlib inline\n",
    "import palettable\n",
    "import plotting\n",
    "import analysis\n",
    "from evolimmune import varname_to_tex, derived_quantities\n",
    "%load_ext autoreload\n",
    "%autoreload 2\n",
    "plt.style.use(['paper'])"
   ]
  },
  {
   "cell_type": "markdown",
   "metadata": {},
   "source": [
    "Import results for population of infinite size."
   ]
  },
  {
   "cell_type": "code",
   "execution_count": null,
   "metadata": {
    "collapsed": false
   },
   "outputs": [],
   "source": [
    "dfinf = analysis.loadnpz('../figSIopt/data/opt.npz')\n",
    "derived_quantities(dfinf)\n",
    "analysis.printunique(dfinf)"
   ]
  },
  {
   "cell_type": "markdown",
   "metadata": {},
   "source": [
    "Import results from finite population size simulations."
   ]
  },
  {
   "cell_type": "code",
   "execution_count": null,
   "metadata": {
    "collapsed": false
   },
   "outputs": [],
   "source": [
    "df = analysis.loadnpz('data/scan.npz')\n",
    "derived_quantities(df)\n",
    "analysis.printunique(df)"
   ]
  },
  {
   "cell_type": "code",
   "execution_count": null,
   "metadata": {
    "collapsed": false
   },
   "outputs": [],
   "source": [
    "# number of runs per parameter\n",
    "df.groupby(by=['nind', 'tauenv', 'ngen', 'pienv']).count().max().max()"
   ]
  },
  {
   "cell_type": "markdown",
   "metadata": {},
   "source": [
    "Putting things together to produce final plot"
   ]
  },
  {
   "cell_type": "code",
   "execution_count": null,
   "metadata": {
    "collapsed": false
   },
   "outputs": [],
   "source": [
    "median = True\n",
    "plt.rc('axes', prop_cycle=cycler('color', palettable.colorbrewer.qualitative.Dark2_6.mpl_colors))\n",
    "black = matplotlib.rcParams['text.color']\n",
    "linewidth = matplotlib.rcParams['lines.linewidth']\n",
    "columns = sorted(df.pienv.unique())\n",
    "variables = ['cconstitutive',  'q', 'p', 'pup']\n",
    "ymargin = 0.05\n",
    "xmargin = 0.02\n",
    "plotkwargs = dict()\n",
    "lims = dict(pup=(0, 0.2), q=(0, 0.2))\n",
    "fig, axes = plt.subplots(ncols=len(columns), nrows=len(variables), figsize=(7.0, 1.0+3.5*len(variables)/len(columns)))\n",
    "for i, val in enumerate(columns):\n",
    "    for j, var in enumerate(variables):\n",
    "        ax = axes[j, i]\n",
    "        lim = lims[var] if var in lims else (0, 1)\n",
    "        dlim = lim[1]-lim[0]\n",
    "        \n",
    "        closestval = dfinf.ix[(dfinf.pienv-val).abs().argmin()]['pienv']\n",
    "        dfsub = dfinf[np.abs(dfinf.pienv-closestval)<1e-3]\n",
    "        dfsub.sort_values(by='tauenv', inplace=True)\n",
    "        x, y = dfsub.tauenv, dfsub[var]\n",
    "        ax.plot(x, y, '-', label=r'$\\infty$', c=black, lw=linewidth*2, **plotkwargs)\n",
    "        \n",
    "        for nind, dfg in sorted(df.groupby(by='nind')):\n",
    "            dfgg = dfg[df.pienv==val].groupby(by='tauenv', as_index=False)\n",
    "            dfgg_tauenv = dfgg[['tauenv']].mean()['tauenv']\n",
    "            if median:\n",
    "                dfggm = dfgg[[var]].median()[var]\n",
    "            else:\n",
    "                dfggm = dfgg[[var]].mean()[var]\n",
    "            x, y = dfgg_tauenv, dfggm\n",
    "            line, = ax.plot(x, y, label='%i'%nind, **plotkwargs)\n",
    "            if median:\n",
    "                dfggu = dfgg[[var]].quantile(0.75)[var]\n",
    "                dfggl = dfgg[[var]].quantile(0.25)[var]\n",
    "            else:\n",
    "                dfggs = dfgg[[var]].std(ddof=1)[var]\n",
    "                dfggu = dfggm + dfggs\n",
    "                dfggl = dfggm - dfggs\n",
    "            ax.fill_between(dfgg_tauenv, dfggl, dfggu,\n",
    "                            facecolor=line.get_color(), edgecolor='none', alpha=0.5)\n",
    "\n",
    "        ax.set_ylim(lim[0]-ymargin*dlim, lim[1]+ymargin*dlim)\n",
    "        ax.set_xlim(0.09, 11.0)\n",
    "        ax.set_xscale('log')\n",
    "        ax.margins(x=xmargin, y=ymargin*dlim)\n",
    "        plotting.despine(ax, spines='all')\n",
    "        ax.grid()\n",
    "        ax.locator_params(axis='y', nbins=5)\n",
    "ax.legend(loc='upper center', title='population size', bbox_to_anchor=(0.54, 1),\n",
    "           bbox_transform=plt.gcf().transFigure, ncol=4)\n",
    "for ax in analysis.flatten(axes[:-1, :]):\n",
    "    plt.setp(ax.get_xticklabels(), visible=False)\n",
    "for ax in analysis.flatten(axes[:, 1:]):\n",
    "    plt.setp(ax.get_yticklabels(), visible=False)\n",
    "for ax in axes[-1, :]:\n",
    "    ax.set_xlabel(varname_to_tex['tauenv'])\n",
    "for j, var in enumerate(variables):\n",
    "    axes[j, 0].set_ylabel(varname_to_tex[var])\n",
    "plotting.label_axes(axes[0, :], labels=[(varname_to_tex['pienv'][1:-1] + r'\\, = \\, %s' % val) for val in columns],\n",
    "                    labelstyle='$%s$',\n",
    "                    xy=(.5, 0.9), xycoords=('axes fraction', 'figure fraction'), fontweight = 'bold', fontsize='medium',\n",
    "                    verticalalignment='top', horizontalalignment='center')\n",
    "fig.tight_layout(h_pad=1.5, w_pad=1.0, rect=(0.0, 0.0, 1.0, 0.87), pad=0.25)\n",
    "fig.savefig('SIevol.pdf')"
   ]
  },
  {
   "cell_type": "markdown",
   "metadata": {
    "collapsed": true
   },
   "source": [
    "**Influence of finite population size on optimal immune strategies from an agent-based simulation with evolving strategy parameters (switching rates and degree of adaptability) as described in the text.**\n",
    "For the infinite population, $p$ is only shown for $q > 0$, because for $q = 0$ the value of $p$ is not constrained other than being positive.\n",
    "Subplots show the median (solid line) and interquartile range (shaded area) of the strategy parameters at the end of a simulation of $100000$ generations length.\n",
    "Both are calculated from 500 independent simulations.\n",
    "In each simulation, the strategy parameters evolve from a random initial distribution via mutation and selection.\n",
    "Mutations take place with a rate $0.01 \\exp(-t/10000)$ per generation and are normally distributed with mean zero and standard deviation $0.25 \\exp(-t/10000)$.\n",
    "The bound constraints on the parameters were enforced by setting the strategy parameters to the boundary value if outside after a mutation.\n",
    "Costs of different immune states as in Fig. 2."
   ]
  },
  {
   "cell_type": "code",
   "execution_count": null,
   "metadata": {
    "collapsed": true
   },
   "outputs": [],
   "source": []
  }
 ],
 "metadata": {
  "kernelspec": {
   "display_name": "Python 2",
   "language": "python",
   "name": "python2"
  },
  "language_info": {
   "codemirror_mode": {
    "name": "ipython",
    "version": 2
   },
   "file_extension": ".py",
   "mimetype": "text/x-python",
   "name": "python",
   "nbconvert_exporter": "python",
   "pygments_lexer": "ipython2",
   "version": "2.7.11+"
  }
 },
 "nbformat": 4,
 "nbformat_minor": 0
}
