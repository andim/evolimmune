{
 "cells": [
  {
   "cell_type": "markdown",
   "metadata": {},
   "source": [
    "# Figure 2: Drawing a phase diagram of immune strategies"
   ]
  },
  {
   "cell_type": "markdown",
   "metadata": {},
   "source": [
    "This notebook contains the data analysis and visualization code needed to reproduce Figure 2. The figure explores optimal immune strategies as a function of the characteristic time and frequency of pathogens."
   ]
  },
  {
   "cell_type": "markdown",
   "metadata": {},
   "source": [
    "Prerequisite: produce numerical data\n",
    "\n",
    "To generate the data needed for the following plot type\n",
    "\n",
    "    make run\n",
    "\n",
    "followed by\n",
    "\n",
    "    make agg\n",
    "    \n",
    "This will generate three data files `phases.npz`, `pienvcut.npz` and `tauenvcut.npz` which contain respectively numerical results about the position of various phase boundaries, optimal parameters along a cut for fixed $\\pi_{\\rm env}$, and optimal parameters along a cut for fixed $\\tau_{\\rm env}$."
   ]
  },
  {
   "cell_type": "markdown",
   "metadata": {},
   "source": [
    "Import a number of packages that we will need in the following."
   ]
  },
  {
   "cell_type": "code",
   "execution_count": null,
   "metadata": {
    "collapsed": false
   },
   "outputs": [],
   "source": [
    "import sys\n",
    "sys.path.append('../lib/')\n",
    "import numpy as np\n",
    "import pandas as pd\n",
    "pd.options.mode.chained_assignment = None\n",
    "import matplotlib\n",
    "import matplotlib.pyplot as plt\n",
    "from matplotlib import cm, lines, transforms, gridspec, ticker\n",
    "%matplotlib inline\n",
    "import palettable\n",
    "import shapely.geometry\n",
    "import shapely.ops\n",
    "import plotting\n",
    "import evolimmune\n",
    "import analysis\n",
    "%load_ext autoreload\n",
    "%autoreload 2\n",
    "plt.style.use(['paper'])\n",
    "eps = 1e-8"
   ]
  },
  {
   "cell_type": "markdown",
   "metadata": {},
   "source": [
    "Read in data about the position of phase boundaries."
   ]
  },
  {
   "cell_type": "code",
   "execution_count": null,
   "metadata": {
    "collapsed": false
   },
   "outputs": [],
   "source": [
    "df = analysis.loadnpz('data/phases.npz')"
   ]
  },
  {
   "cell_type": "markdown",
   "metadata": {},
   "source": [
    "The following gives a summary of the data we just have read in. The columns with a single unique entries correspond to parameters set to a fixed value throughout the different optimizations."
   ]
  },
  {
   "cell_type": "code",
   "execution_count": null,
   "metadata": {
    "collapsed": false
   },
   "outputs": [],
   "source": [
    "analysis.intelligent_describe(df, nunique=10)"
   ]
  },
  {
   "cell_type": "markdown",
   "metadata": {},
   "source": [
    "Deduce phases from boundaries between strategies"
   ]
  },
  {
   "cell_type": "code",
   "execution_count": null,
   "metadata": {
    "collapsed": false
   },
   "outputs": [],
   "source": [
    "polygons = evolimmune.polygons_from_boundaries(df, yconv=evolimmune.to_tau)\n",
    "phases = evolimmune.phases_from_polygons(polygons)\n",
    "complete = polygons['complete']\n",
    "c = phases['c']\n",
    "a = phases['a']\n",
    "pa = phases['p']\n",
    "one = phases['o']\n",
    "i = phases['i']\n",
    "mix = phases['m']\n",
    "qpos = shapely.ops.cascaded_union([c, mix, i])\n",
    "strategies = [a, pa, one, i, mix, c]\n",
    "strategies_s = ['a', 'p', 'o', 'i', 'm', 'c']\n",
    "strategies_s_long = [r'adaptive', 'proto-\\nadaptive', r'innate', 'innate\\nbet\\nhedging', r'mixed', r'CRISPR-like']"
   ]
  },
  {
   "cell_type": "markdown",
   "metadata": {},
   "source": [
    "Define some common plotting parameters"
   ]
  },
  {
   "cell_type": "code",
   "execution_count": null,
   "metadata": {
    "collapsed": false
   },
   "outputs": [],
   "source": [
    "commontextkwargs = dict(ha='center', va='center')\n",
    "phaselabelkwargs = dict(fontsize='large')\n",
    "phaselabelkwargs.update(commontextkwargs)\n",
    "ymargin = 0.05\n",
    "ymin, ymax = evolimmune.to_tau(df.aenv.min()), evolimmune.to_tau(df.aenv.max())\n",
    "pad = 0.25\n",
    "black = matplotlib.rcParams['text.color']\n",
    "grey = 'grey'\n",
    "colors = np.asarray(palettable.colorbrewer.qualitative.Set3_6.mpl_colors)[[4, 0, 2, 3, 5, 1]]\n",
    "linecolors = dict(zip(('pup', 'p', 'cconstitutive', 'q', 'tau', 'tau1'), palettable.colorbrewer.qualitative.Dark2_6.mpl_colors))"
   ]
  },
  {
   "cell_type": "markdown",
   "metadata": {},
   "source": [
    "Define helper functions for plotting and labelling phases"
   ]
  },
  {
   "cell_type": "code",
   "execution_count": null,
   "metadata": {
    "collapsed": false
   },
   "outputs": [],
   "source": [
    "def plot_phases(ax, ylimmax, patchkwargs=dict()):\n",
    "    for i, s in enumerate(strategies):\n",
    "        try:\n",
    "            ax.add_patch(analysis.shapely_to_mpl(s, ec='None', fc=colors[i], **patchkwargs))\n",
    "        except:\n",
    "            pass\n",
    "    ax.set_xlim(0, 1)\n",
    "    ax.set_ylim(ymin, ymax)\n",
    "    ax.set_yscale('log')\n",
    "    plotting.despine(ax, spines='all')\n",
    "\n",
    "sx = dict(a=0.18, p=0.54, o=0.87, i=0.87, m=0.65, c=0.35)\n",
    "sy = dict(a=0.5, p=0.3, o=0.3, i=3.5, m=4.2, c=8.0)\n",
    "def label_phases(ax, textkwargs):\n",
    "    for i, s in enumerate(strategies):\n",
    "        ax.text(sx[strategies_s[i]], sy[strategies_s[i]],\n",
    "                plotting.latexboldmultiline(strategies_s_long[i]), **textkwargs)"
   ]
  },
  {
   "cell_type": "markdown",
   "metadata": {},
   "source": [
    "Produce stand alone phase diagram (subfig A)"
   ]
  },
  {
   "cell_type": "code",
   "execution_count": null,
   "metadata": {
    "collapsed": false,
    "scrolled": true
   },
   "outputs": [],
   "source": [
    "fig, ax = plt.subplots(ncols=1)\n",
    "plot_phases(ax, ymax)\n",
    "label_phases(ax, phaselabelkwargs)\n",
    "ax.yaxis.set_major_formatter(ticker.ScalarFormatter())\n",
    "l = ax.set_xlabel(r'frequency $\\pi_{\\rm env} = \\alpha / (\\alpha+\\beta)$', verticalalignment='top')\n",
    "l.set_position((l.get_position()[0]-0.02, l.get_position()[1]))\n",
    "ax.set_ylabel(r'characteristic time $\\tau_{\\rm env} = -1/\\ln(1-\\alpha-\\beta)$')\n",
    "fig.tight_layout()"
   ]
  },
  {
   "cell_type": "markdown",
   "metadata": {},
   "source": [
    "Define function for plotting phase diagram of strategic choices"
   ]
  },
  {
   "cell_type": "code",
   "execution_count": null,
   "metadata": {
    "collapsed": false
   },
   "outputs": [],
   "source": [
    "def boundaryplots(axes, ylimmax=1.0, ylimmin=0.0):\n",
    "    baseboundarykwargs = dict(lw=1.0)\n",
    "    boundarykwargs = dict(color=black)\n",
    "    boundarykwargs.update(baseboundarykwargs)\n",
    "    patchkwargs = dict(fill=None, linewidth=0.0, alpha=1.0)\n",
    "    analysis.plot_interior_boundary(axes[0], pa, ylimmax=ylimmax, ylimmin=ylimmin, **boundarykwargs)\n",
    "    analysis.plot_interior_boundary(axes[0], a, ylimmax=ylimmax, ylimmin=ylimmin, **boundarykwargs)\n",
    "    textkwargs = dict(color=linecolors['cconstitutive'], transform=axes[0].transAxes, **commontextkwargs)\n",
    "    axes[0].text(0.53, 0.2, r'{\\setlength{\\jot}{-2pt}\\begin{gather*}\\bm{c_{\\rm con.}}\\\\\\bm{<}\\\\\\bm{c_{\\rm def.}}\\end{gather*}}', **textkwargs)\n",
    "    axes[0].text(0.2, 0.35, r'{\\setlength{\\jot}{-2pt}\\begin{gather*}\\bm{c_{\\rm con.}}\\\\\\bm{=}\\\\\\bf{min}\\end{gather*}}', **textkwargs)\n",
    "    axes[0].text(0.67, 0.72, r'{\\setlength{\\jot}{-2pt}\\begin{gather*}\\bm{c_{\\rm constitutive}}\\\\\\bm{=}\\\\\\bm{c_{\\rm defense}}\\end{gather*}}', **textkwargs)\n",
    "\n",
    "    analysis.plot_interior_boundary(axes[1], qpos, ylimmax=ylimmax, ylimmin=ylimmin, **boundarykwargs)\n",
    "    textkwargs = dict(fontsize='medium', color=linecolors['q'], transform=axes[1].transAxes, **commontextkwargs)\n",
    "    axes[1].text(0.67, 0.82, r'$\\bm{q > 0}$', **textkwargs)\n",
    "    axes[1].text(0.37, 0.23, r'$\\bm{q = 0}$', **textkwargs)\n",
    "    \n",
    "    analysis.plot_interior_boundary(axes[2], c, ylimmax=ylimmax, ylimmin=ylimmin, color=black, **baseboundarykwargs)\n",
    "    analysis.plot_interior_boundary(axes[2], shapely.ops.cascaded_union((c, mix)), ylimmax=ylimmax, ylimmin=ylimmin, color=black, **baseboundarykwargs)\n",
    "    text = axes[2].text(0.5, 0.2, r'$\\bm{p > 0}$', fontsize='large', color=linecolors['p'], transform=axes[2].transAxes, **commontextkwargs)\n",
    "    textbox = plotting.box_from_text(text)\n",
    "    axes[2].add_patch(analysis.shapely_to_mpl(complete-c-shapely.geometry.box(*textbox.flatten()),\n",
    "                                              hatch=r'////', ec=linecolors['p'], **patchkwargs))\n",
    "    text = axes[2].text(0.34, 0.89, r'$\\bm{p_{\\rm uptake} > 0}$', color=linecolors['pup'], transform=axes[2].transAxes, **commontextkwargs)\n",
    "    textbox = plotting.box_from_text(text)\n",
    "    axes[2].add_patch(analysis.shapely_to_mpl(shapely.ops.cascaded_union((c, mix))-shapely.geometry.box(*textbox.flatten()),\n",
    "                                              hatch=r'\\\\\\\\', ec=linecolors['pup'], **patchkwargs))"
   ]
  },
  {
   "cell_type": "markdown",
   "metadata": {},
   "source": [
    "Produce stand alone phase diagram of strategic choices (subfig B)"
   ]
  },
  {
   "cell_type": "code",
   "execution_count": null,
   "metadata": {
    "collapsed": false
   },
   "outputs": [],
   "source": [
    "fig, axes = plt.subplots(ncols=3, figsize=(4.0, 1.5))\n",
    "for ax in axes:\n",
    "    plot_phases(ax, ymax, patchkwargs=dict(alpha=0.3))\n",
    "    ax.set_xticks([])\n",
    "    ax.set_yticks([])\n",
    "boundaryplots(axes, ylimmax=ymax, ylimmin=ymin)\n",
    "fig.tight_layout()"
   ]
  },
  {
   "cell_type": "markdown",
   "metadata": {},
   "source": [
    "Define functions to plot optimal parameter values along cuts of constant $\\pi_{\\rm env}$ or $\\tau_{\\rm env}$."
   ]
  },
  {
   "cell_type": "code",
   "execution_count": null,
   "metadata": {
    "collapsed": false
   },
   "outputs": [],
   "source": [
    "def cutaxes(ax, label, color=black, labelkwargs=dict(), ymax=1.0, twin=False, yticklabels=None):\n",
    "    plotting.despine(ax, spines='all')\n",
    "    #yticks = [0.0, ymax/2, ymax]\n",
    "    yticks = [0.0, ymax]\n",
    "    ax.set_yticks(yticks)\n",
    "    if yticklabels is None:\n",
    "        yticklabels = ['%g' % yticks[0], '', '%g' % yticks[-1]]\n",
    "    yticklabels = [yticklabels[0], yticklabels[-1]]\n",
    "    ax.set_yticklabels(yticklabels)\n",
    "    # add an invisible point to fool margin calculation\n",
    "    ax.plot([0.0], [ymax], alpha=0.0)\n",
    "    if twin:\n",
    "        x = 1.05\n",
    "    else:\n",
    "        x = -.08\n",
    "    ax.text(x, 0.5, label, color=color, transform=ax.transAxes, **ylabelkwargs)\n",
    "    ax.margins(y=ymargin)\n",
    "    for tl in ax.get_yticklabels():\n",
    "        tl.set_color(color)\n",
    "    return ax\n",
    "\n",
    "def shade_according_to_phase(ax, phases, colors, x=None, y=None, transform=None, vspankwargs=dict()):\n",
    "    if transform is None:\n",
    "        transform = lambda val: val\n",
    "    if x is not None:\n",
    "        line = shapely.geometry.LineString(((x, 0), (x, 100)))\n",
    "    if y is not None:\n",
    "        line = shapely.geometry.LineString(((0, y), (1, y)))\n",
    "    for i, phase in enumerate(phases):\n",
    "        intersections = phase.boundary.intersection(line)\n",
    "        if isinstance(intersections, shapely.geometry.MultiPoint):\n",
    "            x0, y0 = intersections[0].xy\n",
    "            x0, y0 = x0[0], y0[0]\n",
    "            x1, y1 = intersections[1].xy\n",
    "            x1, y1 = x1[0], y1[0]\n",
    "            if x is not None:\n",
    "                from_, to = y0, y1\n",
    "            if y is not None:\n",
    "                from_, to = x0, x1\n",
    "            ax.axvspan(transform(from_), transform(to), color=colors[i], **vspankwargs)"
   ]
  },
  {
   "cell_type": "markdown",
   "metadata": {},
   "source": [
    "Read in data for cuts"
   ]
  },
  {
   "cell_type": "code",
   "execution_count": null,
   "metadata": {
    "collapsed": false
   },
   "outputs": [],
   "source": [
    "dftauenvcut = analysis.loadnpz('data/tauenvcut.npz')\n",
    "dftauenvcut.p = pd.to_numeric(dftauenvcut.p, errors='coerce')\n",
    "evolimmune.derived_quantities(dftauenvcut)\n",
    "dftauenvcut_dict = dict((aenv, dfg) for aenv, dfg in dftauenvcut.groupby('aenv'))\n",
    "aenvcuts = [key for key in dftauenvcut_dict][::-1]\n",
    "dfpienvcut = analysis.loadnpz('data/pienvcut.npz')\n",
    "dfpienvcut.p = pd.to_numeric(dfpienvcut.p, errors='coerce')\n",
    "evolimmune.derived_quantities(dfpienvcut)"
   ]
  },
  {
   "cell_type": "code",
   "execution_count": null,
   "metadata": {
    "collapsed": false
   },
   "outputs": [],
   "source": [
    "dfpienvcut = dfpienvcut[dfpienvcut.pi<0.9999]\n",
    "axtau = plt.gca()\n",
    "axtau.plot(dfpienvcut.tauenv, dfpienvcut.tau1, '-', c=linecolors['tau1'], label='present')\n",
    "axtau.plot(dfpienvcut.tauenv, dfpienvcut.tau, '-', c=linecolors['tau'], label='absent')\n",
    "axtau.legend(loc='best', title='pathogen')\n",
    "plotting.despine(axtau)\n",
    "axtau.set_xlabel(r'$\\tau_{\\rm env}$')\n",
    "axtau.set_ylabel(r'$\\tau$')"
   ]
  },
  {
   "cell_type": "markdown",
   "metadata": {},
   "source": [
    "Put it all together and produce the final figure"
   ]
  },
  {
   "cell_type": "code",
   "execution_count": null,
   "metadata": {
    "collapsed": false,
    "scrolled": false
   },
   "outputs": [],
   "source": [
    "fig = plt.figure(figsize=(7.0, 4.5))\n",
    "gsleft = gridspec.GridSpec(2, 3, height_ratios=[2.9, 1]) \n",
    "\n",
    "axphase = fig.add_subplot(gsleft[0, :])\n",
    "plot_phases(axphase, ymax)\n",
    "label_phases(axphase, phaselabelkwargs)\n",
    "axphase.yaxis.set_major_formatter(ticker.ScalarFormatter())\n",
    "l = axphase.set_xlabel(r'frequency $\\pi_{\\rm env} = \\alpha / (\\alpha+\\beta)$', verticalalignment='top')\n",
    "l.set_position((l.get_position()[0]-0.02, l.get_position()[1]))\n",
    "axphase.set_ylabel(r'characteristic time $\\tau_{\\rm env} = -1/\\ln(1-\\alpha-\\beta)$')\n",
    "\n",
    "smallaxes = []\n",
    "for counter in range(3):\n",
    "    ax = fig.add_subplot(gsleft[1, counter])\n",
    "    smallaxes.append(ax)\n",
    "for ax in smallaxes:\n",
    "    plot_phases(ax, ymax, patchkwargs=dict(alpha=0.5))\n",
    "    ax.set_xticks([])\n",
    "    ax.set_yticks([])\n",
    "smallaxes[0].set_title('adaptability')\n",
    "smallaxes[1].set_title('heritability')\n",
    "smallaxes[2].set_title('acquisition mode')\n",
    "# layout needs to be done before boundaryplots are drawn in order for cutouts to work\n",
    "gsleft.tight_layout(fig, rect=(0, 0, 0.62, 1), h_pad=1.0, pad=pad, w_pad=0.5)\n",
    "boundaryplots(smallaxes, ylimmax=ymax, ylimmin=ymin)\n",
    "\n",
    "plotkwargs = dict()\n",
    "vspankwargs = dict(alpha=0.5, ec='none')\n",
    "ylabelkwargs = dict(rotation=90, ha='center', va='center', fontsize='medium')\n",
    "switchingmax = 0.1\n",
    "\n",
    "gsright = gridspec.GridSpec(2, 1) \n",
    "\n",
    "#### upper constant characteristic time cut panel ####\n",
    "pienvcut = 0.7\n",
    "dftauenvcut_sub = dftauenvcut_dict[aenvcuts[0]]\n",
    "dftauenvcut_sub.sort_values(by='pienv', inplace=True)\n",
    "axuppercut = fig.add_subplot(gsright[0])\n",
    "shade_according_to_phase(axuppercut, strategies, colors, y=evolimmune.to_tau(aenvcuts[0]), vspankwargs=vspankwargs)\n",
    "cutaxes(axuppercut, r'$p_{\\rm uptake}$', color=linecolors['pup'], labelkwargs=ylabelkwargs,\n",
    "        ymax=switchingmax, twin=False)\n",
    "axuppercut.plot(dftauenvcut_sub.pienv, dftauenvcut_sub.pup, '-', c=linecolors['pup'], **plotkwargs)\n",
    "axuppercut.set_xlabel('')\n",
    "axuppercut.grid(axis='y')\n",
    "plt.setp(axuppercut.get_xticklabels(), visible=False)\n",
    "axuppercuttwin = cutaxes(axuppercut.twinx(), r'$p$', color=linecolors['p'], labelkwargs=ylabelkwargs, ymax=switchingmax, twin=True)\n",
    "axuppercuttwin.plot(dftauenvcut_sub.pienv, dftauenvcut_sub.p, '-', c=linecolors['p'], **plotkwargs)\n",
    "\n",
    "#### lower constant characteristic time cut panel ####\n",
    "dftauenvcut_sub2 = dftauenvcut_dict[aenvcuts[1]]\n",
    "dftauenvcut_sub2.sort_values(by='pienv', inplace=True)\n",
    "axlowercut = fig.add_subplot(gsright[1], sharex=axuppercut)\n",
    "cutaxes(axlowercut, r'$c_{\\rm constitutive}$', color=linecolors['cconstitutive'], labelkwargs=ylabelkwargs,\n",
    "        ymax=1.0, twin=False, yticklabels=['min', '', 'max'])\n",
    "x, y = plotting.jumpify(dftauenvcut_sub2.pienv, dftauenvcut_sub2.cconstitutive, threshold=0.2)\n",
    "axlowercut.plot(x, y, '-', c=linecolors['cconstitutive'], **plotkwargs)\n",
    "axlowercut.set_xlabel(r'$\\pi_{\\rm env}$')\n",
    "axlowercut.margins(y=ymargin)\n",
    "axlowercuttwin = cutaxes(axlowercut.twinx(), r'$q$', color=linecolors['q'], labelkwargs=ylabelkwargs, ymax=switchingmax, twin=True)\n",
    "shade_according_to_phase(axlowercuttwin, strategies, colors, y=evolimmune.to_tau(aenvcuts[1]), vspankwargs=vspankwargs)\n",
    "axlowercuttwin.grid(axis='y')\n",
    "x, y = plotting.jumpify(dftauenvcut_sub2.pienv, dftauenvcut_sub2.q, threshold=0.02)\n",
    "axlowercuttwin.plot(x, y, '-', c=linecolors['q'], **plotkwargs)\n",
    "# cconstitutive line on top of q line\n",
    "axlowercut.set_zorder(axlowercuttwin.get_zorder()+1)\n",
    "axlowercut.patch.set_visible(False)\n",
    "\n",
    "#### frequency cut panel ####\n",
    "dfpienvcut.sort_values(by='tauenv', inplace=True)\n",
    "dfpienvcut = dfpienvcut[dfpienvcut.pi<0.9999]\n",
    "gstau = gridspec.GridSpec(1, 1) \n",
    "axtau = fig.add_subplot(gstau[0])\n",
    "axtau.plot(dfpienvcut.tauenv, dfpienvcut.tau1, '-', c=linecolors['tau1'], label='present')\n",
    "axtau.plot(dfpienvcut.tauenv, dfpienvcut.tau, '-', c=linecolors['tau'], label='absent')\n",
    "lims = [0, 8]\n",
    "axtau.set_xlim(*lims)\n",
    "w = (lims[1]-lims[0])*0.5\n",
    "axtau.set_ylim(lims[0]-ymargin*w, lims[1]+ymargin*w)\n",
    "axtau.set_xlabel(r'$\\tau_{\\rm env}$')\n",
    "axtau.set_ylabel(r'$\\tau$')\n",
    "axtau.legend(loc='best', title='pathogen')\n",
    "axtau.locator_params(nbins=6)\n",
    "shade_according_to_phase(axtau, strategies, colors, x=pienvcut, vspankwargs=vspankwargs)\n",
    "plotting.despine(axtau, spines='all')\n",
    "\n",
    "#### make link to cuts ####\n",
    "# plot lines corresponding to plots on the right\n",
    "vlinekwargs=dict(color=grey, alpha=0.4, lw=0.8)\n",
    "axphase.vlines([pienvcut], [0], [lims[1]], **vlinekwargs)\n",
    "for aenv in aenvcuts:\n",
    "    axphase.axhline(evolimmune.to_tau(aenv), **vlinekwargs)\n",
    "offset = -.15\n",
    "arrowprops = dict(edgecolor=grey, facecolor='w', arrowstyle='-|>',\n",
    "         mutation_scale=8, shrinkA=0, clip_on=False)\n",
    "transformB = transforms.blended_transform_factory(axlowercut.transAxes, axphase.transData)\n",
    "axphase.annotate(\"\", xy=(1.0, evolimmune.to_tau(aenvcuts[0])), xycoords=('axes fraction', 'data'),\n",
    "     xytext=(offset, evolimmune.to_tau(aenvcuts[0])), textcoords=transformB,\n",
    "     arrowprops=arrowprops)\n",
    "transformB = transforms.blended_transform_factory(axuppercut.transAxes, axphase.transData)\n",
    "axphase.annotate(\"\", xy=(1.0, evolimmune.to_tau(aenvcuts[1])), xycoords=('axes fraction', 'data'),\n",
    "     xytext=(-0.15, evolimmune.to_tau(aenvcuts[1])), textcoords=transformB,\n",
    "     arrowprops=arrowprops)\n",
    "transformB = transforms.blended_transform_factory(axtau.transAxes, axphase.transAxes)\n",
    "axphase.annotate(\"\", xy=(pienvcut, 0.0), xycoords=('data', 'axes fraction'),\n",
    "     xytext=(-0.15, -0.08), textcoords=transformB,\n",
    "     arrowprops=dict(connectionstyle='angle,angleA=180,angleB=-90,rad=0', **arrowprops))\n",
    "for ax in [axlowercut, axuppercut, axtau]:\n",
    "    line = lines.Line2D([offset, offset], [0.0, 1.0], color=grey, transform=ax.transAxes,\n",
    "                        linewidth=matplotlib.rcParams['patch.linewidth'], clip_on=False)\n",
    "    ax.add_line(line)\n",
    "\n",
    "#### overall layout ####\n",
    "gsright.tight_layout(fig, rect=(0.66, 0.45, 1.0, 1), h_pad=0.5, pad=pad)\n",
    "gstau.tight_layout(fig, rect=(0.66, 0.0, 0.975, 0.43), pad=pad)\n",
    "subfiglabelkwargs = dict(fontsize='large', verticalalignment='top', horizontalalignment='left')\n",
    "axphase.text(0.005, 1.0, r'\\textbf{A}',\n",
    "         transform=transforms.blended_transform_factory(fig.transFigure, axphase.transAxes),\n",
    "         **subfiglabelkwargs)\n",
    "smallaxes[0].text(0.005, 1.15, r'\\textbf{B}',\n",
    "         transform=transforms.blended_transform_factory(fig.transFigure, smallaxes[0].transAxes),\n",
    "         **subfiglabelkwargs)#\n",
    "axuppercut.text(0.63, 1.0, r'\\textbf{C}',\n",
    "         transform=transforms.blended_transform_factory(fig.transFigure, axuppercut.transAxes),\n",
    "         **subfiglabelkwargs)\n",
    "axuppercut.text(0.63, 1.0, r'\\textbf{D}',\n",
    "         transform=transforms.blended_transform_factory(fig.transFigure, axlowercut.transAxes),\n",
    "         **subfiglabelkwargs)\n",
    "axtau.text(0.63, 1.0, r'\\textbf{E}',\n",
    "         transform=transforms.blended_transform_factory(fig.transFigure, axtau.transAxes),\n",
    "         **subfiglabelkwargs)\n",
    "\n",
    "fig.savefig('figure2.pdf')"
   ]
  },
  {
   "cell_type": "markdown",
   "metadata": {},
   "source": [
    "**Optimal immune strategies as a function of the  frequency and characteristic time of pathogens.**\n",
    "**(A)** Distinct optimal immune strategies emerge for different statistics of appearance of the pathogens. Each phase is characterized by the value of parameters indicated in panel B and named after a known immune system that has similar characteristics (the name 'adaptive' is after the vertebrate immune system).\n",
    "**(B)** The different phases of immunity are defined by the values of parameters along three main axes: adaptability (constitutive cost $c_{\\rm constitutive}$), heritability ($1-q$) and mode of acquisition ($p$ and $p_{\\rm uptake}$). \n",
    "**(C)** and **(D)** Optimal parameters as a function of $\\pi_{\\rm env}$ for $\\tau_{\\rm env} = 12$ (C) and  $\\tau_{\\rm env} = 0.8$ (D). For slowly varying environments (C), rare pathogens are best targeted by CRISPR-like uptake of protection, while frequent pathogens are best dealt with by spontaneous acquisition of protection, with a crossover in-between where both co-exist. For faster varying environments (D), the constitutive cost invested in the protection goes from negligible to maximal as the pathogen frequency increases. When it is maximal, the best strategy transitions from bet-hedging ($q>0$) to a full protection of the population ($q=0$).\n",
    "**(E)** The correlation times of protection in absence of the pathogen, $\\tau = -1/\\ln(1 - p - q)$, and in its presence, $\\tau = -1/\\ln(1 - p - p_{\\rm uptake} - q)$, are shown for $\\pi_{\\rm env} = 0.7$ as a function of $\\tau_{\\rm env}$. Both increase with the correlation time of the pathogen. In this figure, an infinite population size is assumed and the following parameters are used: $c_{\\rm infection} = 3; \\; c_{\\rm constitutive} = \\left(1.8 - c_{\\rm defense}\\right) / \\left(c_{\\rm defense} - 0.2\\right); \\; c_{\\rm uptake}(p_{\\rm uptake}) = 0.1\\times p_{\\rm uptake} + p_{\\rm uptake}^2$ (see Fig. S2 for other choices)."
   ]
  },
  {
   "cell_type": "code",
   "execution_count": null,
   "metadata": {
    "collapsed": true
   },
   "outputs": [],
   "source": []
  }
 ],
 "metadata": {
  "hide_input": false,
  "kernelspec": {
   "display_name": "Python 2",
   "language": "python",
   "name": "python2"
  },
  "language_info": {
   "codemirror_mode": {
    "name": "ipython",
    "version": 2
   },
   "file_extension": ".py",
   "mimetype": "text/x-python",
   "name": "python",
   "nbconvert_exporter": "python",
   "pygments_lexer": "ipython2",
   "version": "2.7.11+"
  }
 },
 "nbformat": 4,
 "nbformat_minor": 0
}
